{
 "cells": [
  {
   "cell_type": "markdown",
   "metadata": {
    "application/vnd.databricks.v1+cell": {
     "cellMetadata": {},
     "inputWidgets": {},
     "nuid": "baca7562-9f80-477f-a998-a31a9d3ebfe7",
     "showTitle": false,
     "tableResultSettingsMap": {},
     "title": ""
    }
   },
   "source": [
    "##Generative AI Assignment-5: \n",
    "\n",
    "Create a retrieval augmented chain to accept search terms and return results from your vector db or in memory dictionary\n",
    " "
   ]
  },
  {
   "cell_type": "code",
   "execution_count": 0,
   "metadata": {
    "application/vnd.databricks.v1+cell": {
     "cellMetadata": {
      "byteLimit": 2048000,
      "rowLimit": 10000
     },
     "inputWidgets": {},
     "nuid": "727baaea-e1db-4bb6-8e44-223edcd434c4",
     "showTitle": true,
     "tableResultSettingsMap": {},
     "title": "Step 1: Install Required Libraries"
    }
   },
   "outputs": [
    {
     "output_type": "stream",
     "name": "stdout",
     "output_type": "stream",
     "text": [
      "\u001B[43mNote: you may need to restart the kernel using dbutils.library.restartPython() to use updated packages.\u001B[0m\nRequirement already satisfied: langchain in /databricks/python3/lib/python3.10/site-packages (0.0.348)\nCollecting langchain_community\n  Downloading langchain_community-0.3.9-py3-none-any.whl (2.4 MB)\n     ━━━━━━━━━━━━━━━━━━━━━━━━━━━━━━━━━━━━━━━━ 2.4/2.4 MB 7.1 MB/s eta 0:00:00\nRequirement already satisfied: sentence-transformers in /databricks/python3/lib/python3.10/site-packages (2.2.2)\nRequirement already satisfied: chromadb in /local_disk0/.ephemeral_nfs/envs/pythonEnv-b96c6dc9-ef77-4c54-a8e3-9123e42aa203/lib/python3.10/site-packages (0.5.21)\nRequirement already satisfied: PyPDF2 in /local_disk0/.ephemeral_nfs/cluster_libraries/python/lib/python3.10/site-packages (3.0.1)\nRequirement already satisfied: transformers in /databricks/python3/lib/python3.10/site-packages (4.36.1)\nRequirement already satisfied: torch in /databricks/python3/lib/python3.10/site-packages (2.0.1+cpu)\nRequirement already satisfied: async-timeout<5.0.0,>=4.0.0 in /databricks/python3/lib/python3.10/site-packages (from langchain) (4.0.3)\nRequirement already satisfied: jsonpatch<2.0,>=1.33 in /databricks/python3/lib/python3.10/site-packages (from langchain) (1.33)\nRequirement already satisfied: langsmith<0.1.0,>=0.0.63 in /databricks/python3/lib/python3.10/site-packages (from langchain) (0.0.79)\nRequirement already satisfied: tenacity<9.0.0,>=8.1.0 in /local_disk0/.ephemeral_nfs/envs/pythonEnv-b96c6dc9-ef77-4c54-a8e3-9123e42aa203/lib/python3.10/site-packages (from langchain) (8.5.0)\nRequirement already satisfied: requests<3,>=2 in /databricks/python3/lib/python3.10/site-packages (from langchain) (2.28.1)\nRequirement already satisfied: SQLAlchemy<3,>=1.4 in /databricks/python3/lib/python3.10/site-packages (from langchain) (1.4.39)\nRequirement already satisfied: dataclasses-json<0.7,>=0.5.7 in /databricks/python3/lib/python3.10/site-packages (from langchain) (0.6.3)\nRequirement already satisfied: numpy<2,>=1 in /databricks/python3/lib/python3.10/site-packages (from langchain) (1.23.5)\nRequirement already satisfied: pydantic<3,>=1 in /databricks/python3/lib/python3.10/site-packages (from langchain) (1.10.6)\nRequirement already satisfied: aiohttp<4.0.0,>=3.8.3 in /databricks/python3/lib/python3.10/site-packages (from langchain) (3.9.1)\nRequirement already satisfied: langchain-core<0.1,>=0.0.12 in /databricks/python3/lib/python3.10/site-packages (from langchain) (0.0.13)\nRequirement already satisfied: PyYAML>=5.3 in /databricks/python3/lib/python3.10/site-packages (from langchain) (6.0)\nCollecting pydantic-settings<3.0.0,>=2.4.0\n  Downloading pydantic_settings-2.6.1-py3-none-any.whl (28 kB)\nCollecting httpx-sse<0.5.0,>=0.4.0\n  Downloading httpx_sse-0.4.0-py3-none-any.whl (7.8 kB)\nCollecting langchain_community\n  Downloading langchain_community-0.3.8-py3-none-any.whl (2.4 MB)\n     ━━━━━━━━━━━━━━━━━━━━━━━━━━━━━━━━━━━━━━━━ 2.4/2.4 MB 56.1 MB/s eta 0:00:00\n  Downloading langchain_community-0.3.7-py3-none-any.whl (2.4 MB)\n     ━━━━━━━━━━━━━━━━━━━━━━━━━━━━━━━━━━━━━━━━ 2.4/2.4 MB 60.9 MB/s eta 0:00:00\nCollecting langchain\n  Downloading langchain-0.3.9-py3-none-any.whl (1.0 MB)\n     ━━━━━━━━━━━━━━━━━━━━━━━━━━━━━━━━━━━━━━━━ 1.0/1.0 MB 68.9 MB/s eta 0:00:00\nCollecting langchain_community\n  Downloading langchain_community-0.3.6-py3-none-any.whl (2.4 MB)\n     ━━━━━━━━━━━━━━━━━━━━━━━━━━━━━━━━━━━━━━━━ 2.4/2.4 MB 81.8 MB/s eta 0:00:00\n  Downloading langchain_community-0.3.5-py3-none-any.whl (2.4 MB)\n     ━━━━━━━━━━━━━━━━━━━━━━━━━━━━━━━━━━━━━━━━ 2.4/2.4 MB 39.8 MB/s eta 0:00:00\n  Downloading langchain_community-0.3.4-py3-none-any.whl (2.4 MB)\n     ━━━━━━━━━━━━━━━━━━━━━━━━━━━━━━━━━━━━━━━━ 2.4/2.4 MB 85.0 MB/s eta 0:00:00\n  Downloading langchain_community-0.3.3-py3-none-any.whl (2.4 MB)\n     ━━━━━━━━━━━━━━━━━━━━━━━━━━━━━━━━━━━━━━━━ 2.4/2.4 MB 76.5 MB/s eta 0:00:00\n  Downloading langchain_community-0.3.2-py3-none-any.whl (2.4 MB)\n     ━━━━━━━━━━━━━━━━━━━━━━━━━━━━━━━━━━━━━━━━ 2.4/2.4 MB 81.7 MB/s eta 0:00:00\n  Downloading langchain_community-0.3.1-py3-none-any.whl (2.4 MB)\n     ━━━━━━━━━━━━━━━━━━━━━━━━━━━━━━━━━━━━━━━━ 2.4/2.4 MB 78.1 MB/s eta 0:00:00\n  Downloading langchain_community-0.3.0-py3-none-any.whl (2.3 MB)\n     ━━━━━━━━━━━━━━━━━━━━━━━━━━━━━━━━━━━━━━━━ 2.3/2.3 MB 28.4 MB/s eta 0:00:00\n  Downloading langchain_community-0.2.19-py3-none-any.whl (2.3 MB)\n     ━━━━━━━━━━━━━━━━━━━━━━━━━━━━━━━━━━━━━━━━ 2.3/2.3 MB 34.3 MB/s eta 0:00:00\nCollecting langchain\n  Downloading langchain-0.2.17-py3-none-any.whl (1.0 MB)\n     ━━━━━━━━━━━━━━━━━━━━━━━━━━━━━━━━━━━━━━━━ 1.0/1.0 MB 64.3 MB/s eta 0:00:00\nCollecting langchain_community\n  Downloading langchain_community-0.2.18-py3-none-any.whl (2.3 MB)\n     ━━━━━━━━━━━━━━━━━━━━━━━━━━━━━━━━━━━━━━━━ 2.3/2.3 MB 78.8 MB/s eta 0:00:00\n  Downloading langchain_community-0.2.17-py3-none-any.whl (2.3 MB)\n     ━━━━━━━━━━━━━━━━━━━━━━━━━━━━━━━━━━━━━━━━ 2.3/2.3 MB 74.9 MB/s eta 0:00:00\n  Downloading langchain_community-0.2.16-py3-none-any.whl (2.3 MB)\n     ━━━━━━━━━━━━━━━━━━━━━━━━━━━━━━━━━━━━━━━━ 2.3/2.3 MB 62.8 MB/s eta 0:00:00\n  Downloading langchain_community-0.2.15-py3-none-any.whl (2.3 MB)\n     ━━━━━━━━━━━━━━━━━━━━━━━━━━━━━━━━━━━━━━━━ 2.3/2.3 MB 91.8 MB/s eta 0:00:00\n  Downloading langchain_community-0.2.13-py3-none-any.whl (2.3 MB)\n     ━━━━━━━━━━━━━━━━━━━━━━━━━━━━━━━━━━━━━━━━ 2.3/2.3 MB 88.9 MB/s eta 0:00:00\n  Downloading langchain_community-0.2.12-py3-none-any.whl (2.3 MB)\n     ━━━━━━━━━━━━━━━━━━━━━━━━━━━━━━━━━━━━━━━━ 2.3/2.3 MB 51.8 MB/s eta 0:00:00\n  Downloading langchain_community-0.2.11-py3-none-any.whl (2.3 MB)\n     ━━━━━━━━━━━━━━━━━━━━━━━━━━━━━━━━━━━━━━━━ 2.3/2.3 MB 83.6 MB/s eta 0:00:00\n  Downloading langchain_community-0.2.10-py3-none-any.whl (2.3 MB)\n     ━━━━━━━━━━━━━━━━━━━━━━━━━━━━━━━━━━━━━━━━ 2.3/2.3 MB 78.8 MB/s eta 0:00:00\n  Downloading langchain_community-0.2.9-py3-none-any.whl (2.3 MB)\n     ━━━━━━━━━━━━━━━━━━━━━━━━━━━━━━━━━━━━━━━━ 2.3/2.3 MB 69.6 MB/s eta 0:00:00\n  Downloading langchain_community-0.2.7-py3-none-any.whl (2.2 MB)\n     ━━━━━━━━━━━━━━━━━━━━━━━━━━━━━━━━━━━━━━━━ 2.2/2.2 MB 86.5 MB/s eta 0:00:00\n  Downloading langchain_community-0.2.6-py3-none-any.whl (2.2 MB)\n     ━━━━━━━━━━━━━━━━━━━━━━━━━━━━━━━━━━━━━━━━ 2.2/2.2 MB 67.3 MB/s eta 0:00:00\n  Downloading langchain_community-0.2.5-py3-none-any.whl (2.2 MB)\n     ━━━━━━━━━━━━━━━━━━━━━━━━━━━━━━━━━━━━━━━━ 2.2/2.2 MB 19.6 MB/s eta 0:00:00\n  Downloading langchain_community-0.2.4-py3-none-any.whl (2.2 MB)\n     ━━━━━━━━━━━━━━━━━━━━━━━━━━━━━━━━━━━━━━━━ 2.2/2.2 MB 66.0 MB/s eta 0:00:00\n  Downloading langchain_community-0.2.3-py3-none-any.whl (2.2 MB)\n     ━━━━━━━━━━━━━━━━━━━━━━━━━━━━━━━━━━━━━━━━ 2.2/2.2 MB 84.5 MB/s eta 0:00:00\n  Downloading langchain_community-0.2.2-py3-none-any.whl (2.2 MB)\n     ━━━━━━━━━━━━━━━━━━━━━━━━━━━━━━━━━━━━━━━━ 2.2/2.2 MB 74.4 MB/s eta 0:00:00\n  Downloading langchain_community-0.2.1-py3-none-any.whl (2.1 MB)\n     ━━━━━━━━━━━━━━━━━━━━━━━━━━━━━━━━━━━━━━━━ 2.1/2.1 MB 45.6 MB/s eta 0:00:00\n  Downloading langchain_community-0.2.0-py3-none-any.whl (2.1 MB)\n     ━━━━━━━━━━━━━━━━━━━━━━━━━━━━━━━━━━━━━━━━ 2.1/2.1 MB 72.7 MB/s eta 0:00:00\n  Downloading langchain_community-0.0.38-py3-none-any.whl (2.0 MB)\n     ━━━━━━━━━━━━━━━━━━━━━━━━━━━━━━━━━━━━━━━━ 2.0/2.0 MB 15.1 MB/s eta 0:00:00\n  Downloading langchain_community-0.0.37-py3-none-any.whl (2.0 MB)\n     ━━━━━━━━━━━━━━━━━━━━━━━━━━━━━━━━━━━━━━━━ 2.0/2.0 MB 69.3 MB/s eta 0:00:00\n  Downloading langchain_community-0.0.36-py3-none-any.whl (2.0 MB)\n     ━━━━━━━━━━━━━━━━━━━━━━━━━━━━━━━━━━━━━━━━ 2.0/2.0 MB 75.2 MB/s eta 0:00:00\n  Downloading langchain_community-0.0.35-py3-none-any.whl (2.0 MB)\n     ━━━━━━━━━━━━━━━━━━━━━━━━━━━━━━━━━━━━━━━━ 2.0/2.0 MB 67.5 MB/s eta 0:00:00\n  Downloading langchain_community-0.0.34-py3-none-any.whl (1.9 MB)\n     ━━━━━━━━━━━━━━━━━━━━━━━━━━━━━━━━━━━━━━━━ 1.9/1.9 MB 92.9 MB/s eta 0:00:00\n  Downloading langchain_community-0.0.33-py3-none-any.whl (1.9 MB)\n     ━━━━━━━━━━━━━━━━━━━━━━━━━━━━━━━━━━━━━━━━ 1.9/1.9 MB 89.0 MB/s eta 0:00:00\n  Downloading langchain_community-0.0.32-py3-none-any.whl (1.9 MB)\n     ━━━━━━━━━━━━━━━━━━━━━━━━━━━━━━━━━━━━━━━━ 1.9/1.9 MB 61.2 MB/s eta 0:00:00\n  Downloading langchain_community-0.0.31-py3-none-any.whl (1.9 MB)\n     ━━━━━━━━━━━━━━━━━━━━━━━━━━━━━━━━━━━━━━━━ 1.9/1.9 MB 65.9 MB/s eta 0:00:00\n  Downloading langchain_community-0.0.30-py3-none-any.whl (1.9 MB)\n     ━━━━━━━━━━━━━━━━━━━━━━━━━━━━━━━━━━━━━━━━ 1.9/1.9 MB 69.3 MB/s eta 0:00:00\n  Downloading langchain_community-0.0.29-py3-none-any.whl (1.8 MB)\n     ━━━━━━━━━━━━━━━━━━━━━━━━━━━━━━━━━━━━━━━━ 1.8/1.8 MB 41.3 MB/s eta 0:00:00\n  Downloading langchain_community-0.0.28-py3-none-any.whl (1.8 MB)\n     ━━━━━━━━━━━━━━━━━━━━━━━━━━━━━━━━━━━━━━━━ 1.8/1.8 MB 79.3 MB/s eta 0:00:00\n  Downloading langchain_community-0.0.27-py3-none-any.whl (1.8 MB)\n     ━━━━━━━━━━━━━━━━━━━━━━━━━━━━━━━━━━━━━━━━ 1.8/1.8 MB 81.8 MB/s eta 0:00:00\n  Downloading langchain_community-0.0.26-py3-none-any.whl (1.8 MB)\n     ━━━━━━━━━━━━━━━━━━━━━━━━━━━━━━━━━━━━━━━━ 1.8/1.8 MB 85.4 MB/s eta 0:00:00\n  Downloading langchain_community-0.0.25-py3-none-any.whl (1.8 MB)\n     ━━━━━━━━━━━━━━━━━━━━━━━━━━━━━━━━━━━━━━━━ 1.8/1.8 MB 75.0 MB/s eta 0:00:00\n  Downloading langchain_community-0.0.24-py3-none-any.whl (1.7 MB)\n     ━━━━━━━━━━━━━━━━━━━━━━━━━━━━━━━━━━━━━━━━ 1.7/1.7 MB 53.3 MB/s eta 0:00:00\n  Downloading langchain_community-0.0.23-py3-none-any.whl (1.7 MB)\n     ━━━━━━━━━━━━━━━━━━━━━━━━━━━━━━━━━━━━━━━━ 1.7/1.7 MB 82.1 MB/s eta 0:00:00\n  Downloading langchain_community-0.0.22-py3-none-any.whl (1.7 MB)\n     ━━━━━━━━━━━━━━━━━━━━━━━━━━━━━━━━━━━━━━━━ 1.7/1.7 MB 79.1 MB/s eta 0:00:00\n  Downloading langchain_community-0.0.21-py3-none-any.whl (1.7 MB)\n     ━━━━━━━━━━━━━━━━━━━━━━━━━━━━━━━━━━━━━━━━ 1.7/1.7 MB 75.7 MB/s eta 0:00:00\n  Downloading langchain_community-0.0.20-py3-none-any.whl (1.7 MB)\n     ━━━━━━━━━━━━━━━━━━━━━━━━━━━━━━━━━━━━━━━━ 1.7/1.7 MB 84.2 MB/s eta 0:00:00\n  Downloading langchain_community-0.0.19-py3-none-any.whl (1.6 MB)\n     ━━━━━━━━━━━━━━━━━━━━━━━━━━━━━━━━━━━━━━━━ 1.6/1.6 MB 73.9 MB/s eta 0:00:00\n  Downloading langchain_community-0.0.18-py3-none-any.whl (1.6 MB)\n     ━━━━━━━━━━━━━━━━━━━━━━━━━━━━━━━━━━━━━━━━ 1.6/1.6 MB 76.6 MB/s eta 0:00:00\n  Downloading langchain_community-0.0.17-py3-none-any.whl (1.6 MB)\n     ━━━━━━━━━━━━━━━━━━━━━━━━━━━━━━━━━━━━━━━━ 1.6/1.6 MB 70.1 MB/s eta 0:00:00\n  Downloading langchain_community-0.0.16-py3-none-any.whl (1.6 MB)\n     ━━━━━━━━━━━━━━━━━━━━━━━━━━━━━━━━━━━━━━━━ 1.6/1.6 MB 28.6 MB/s eta 0:00:00\n  Downloading langchain_community-0.0.15-py3-none-any.whl (1.6 MB)\n     ━━━━━━━━━━━━━━━━━━━━━━━━━━━━━━━━━━━━━━━━ 1.6/1.6 MB 83.6 MB/s eta 0:00:00\nCollecting langsmith<0.1.0,>=0.0.63\n  Downloading langsmith-0.0.92-py3-none-any.whl (56 kB)\n     ━━━━━━━━━━━━━━━━━━━━━━━━━━━━━━━━━━━━━━━━ 56.5/56.5 kB 8.3 MB/s eta 0:00:00\nCollecting langchain_community\n  Downloading langchain_community-0.0.14-py3-none-any.whl (1.6 MB)\n     ━━━━━━━━━━━━━━━━━━━━━━━━━━━━━━━━━━━━━━━━ 1.6/1.6 MB 70.2 MB/s eta 0:00:00\n  Downloading langchain_community-0.0.13-py3-none-any.whl (1.6 MB)\n     ━━━━━━━━━━━━━━━━━━━━━━━━━━━━━━━━━━━━━━━━ 1.6/1.6 MB 76.1 MB/s eta 0:00:00\n  Downloading langchain_community-0.0.12-py3-none-any.whl (1.6 MB)\n     ━━━━━━━━━━━━━━━━━━━━━━━━━━━━━━━━━━━━━━━━ 1.6/1.6 MB 70.6 MB/s eta 0:00:00\n  Downloading langchain_community-0.0.11-py3-none-any.whl (1.5 MB)\n     ━━━━━━━━━━━━━━━━━━━━━━━━━━━━━━━━━━━━━━━━ 1.5/1.5 MB 66.5 MB/s eta 0:00:00\n  Downloading langchain_community-0.0.10-py3-none-any.whl (1.5 MB)\n     ━━━━━━━━━━━━━━━━━━━━━━━━━━━━━━━━━━━━━━━━ 1.5/1.5 MB 82.1 MB/s eta 0:00:00\n  Downloading langchain_community-0.0.8-py3-none-any.whl (1.5 MB)\n     ━━━━━━━━━━━━━━━━━━━━━━━━━━━━━━━━━━━━━━━━ 1.5/1.5 MB 71.7 MB/s eta 0:00:00\n  Downloading langchain_community-0.0.7-py3-none-any.whl (1.5 MB)\n     ━━━━━━━━━━━━━━━━━━━━━━━━━━━━━━━━━━━━━━━━ 1.5/1.5 MB 69.1 MB/s eta 0:00:00\n  Downloading langchain_community-0.0.6-py3-none-any.whl (1.5 MB)\n     ━━━━━━━━━━━━━━━━━━━━━━━━━━━━━━━━━━━━━━━━ 1.5/1.5 MB 53.6 MB/s eta 0:00:00\n  Downloading langchain_community-0.0.5-py3-none-any.whl (1.5 MB)\n     ━━━━━━━━━━━━━━━━━━━━━━━━━━━━━━━━━━━━━━━━ 1.5/1.5 MB 61.8 MB/s eta 0:00:00\n  Downloading langchain_community-0.0.4-py3-none-any.whl (1.5 MB)\n     ━━━━━━━━━━━━━━━━━━━━━━━━━━━━━━━━━━━━━━━━ 1.5/1.5 MB 64.9 MB/s eta 0:00:00\n  Downloading langchain_community-0.0.3-py3-none-any.whl (1.5 MB)\n     ━━━━━━━━━━━━━━━━━━━━━━━━━━━━━━━━━━━━━━━━ 1.5/1.5 MB 9.0 MB/s eta 0:00:00\n  Downloading langchain_community-0.0.2-py3-none-any.whl (1.5 MB)\n     ━━━━━━━━━━━━━━━━━━━━━━━━━━━━━━━━━━━━━━━━ 1.5/1.5 MB 69.8 MB/s eta 0:00:00\n  Downloading langchain_community-0.0.1-py3-none-any.whl (1.5 MB)\n     ━━━━━━━━━━━━━━━━━━━━━━━━━━━━━━━━━━━━━━━━ 1.5/1.5 MB 71.3 MB/s eta 0:00:00\nRequirement already satisfied: sentencepiece in /databricks/python3/lib/python3.10/site-packages (from sentence-transformers) (0.1.99)\nRequirement already satisfied: scikit-learn in /databricks/python3/lib/python3.10/site-packages (from sentence-transformers) (1.1.1)\nRequirement already satisfied: huggingface-hub>=0.4.0 in /databricks/python3/lib/python3.10/site-packages (from sentence-transformers) (0.19.4)\nRequirement already satisfied: tqdm in /local_disk0/.ephemeral_nfs/envs/pythonEnv-b96c6dc9-ef77-4c54-a8e3-9123e42aa203/lib/python3.10/site-packages (from sentence-transformers) (4.67.1)\nRequirement already satisfied: scipy in /databricks/python3/lib/python3.10/site-packages (from sentence-transformers) (1.10.0)\nRequirement already satisfied: torchvision in /databricks/python3/lib/python3.10/site-packages (from sentence-transformers) (0.15.2+cpu)\nRequirement already satisfied: nltk in /databricks/python3/lib/python3.10/site-packages (from sentence-transformers) (3.7)\nRequirement already satisfied: opentelemetry-sdk>=1.2.0 in /local_disk0/.ephemeral_nfs/envs/pythonEnv-b96c6dc9-ef77-4c54-a8e3-9123e42aa203/lib/python3.10/site-packages (from chromadb) (1.28.2)\nRequirement already satisfied: orjson>=3.9.12 in /local_disk0/.ephemeral_nfs/envs/pythonEnv-b96c6dc9-ef77-4c54-a8e3-9123e42aa203/lib/python3.10/site-packages (from chromadb) (3.10.12)\nRequirement already satisfied: mmh3>=4.0.1 in /local_disk0/.ephemeral_nfs/envs/pythonEnv-b96c6dc9-ef77-4c54-a8e3-9123e42aa203/lib/python3.10/site-packages (from chromadb) (5.0.1)\nRequirement already satisfied: fastapi>=0.95.2 in /local_disk0/.ephemeral_nfs/envs/pythonEnv-b96c6dc9-ef77-4c54-a8e3-9123e42aa203/lib/python3.10/site-packages (from chromadb) (0.115.6)\nRequirement already satisfied: opentelemetry-instrumentation-fastapi>=0.41b0 in /local_disk0/.ephemeral_nfs/envs/pythonEnv-b96c6dc9-ef77-4c54-a8e3-9123e42aa203/lib/python3.10/site-packages (from chromadb) (0.49b2)\nRequirement already satisfied: posthog>=2.4.0 in /local_disk0/.ephemeral_nfs/envs/pythonEnv-b96c6dc9-ef77-4c54-a8e3-9123e42aa203/lib/python3.10/site-packages (from chromadb) (3.7.4)\nRequirement already satisfied: onnxruntime>=1.14.1 in /local_disk0/.ephemeral_nfs/envs/pythonEnv-b96c6dc9-ef77-4c54-a8e3-9123e42aa203/lib/python3.10/site-packages (from chromadb) (1.20.1)\nRequirement already satisfied: uvicorn[standard]>=0.18.3 in /local_disk0/.ephemeral_nfs/envs/pythonEnv-b96c6dc9-ef77-4c54-a8e3-9123e42aa203/lib/python3.10/site-packages (from chromadb) (0.32.1)\nRequirement already satisfied: opentelemetry-api>=1.2.0 in /local_disk0/.ephemeral_nfs/envs/pythonEnv-b96c6dc9-ef77-4c54-a8e3-9123e42aa203/lib/python3.10/site-packages (from chromadb) (1.28.2)\nRequirement already satisfied: overrides>=7.3.1 in /local_disk0/.ephemeral_nfs/envs/pythonEnv-b96c6dc9-ef77-4c54-a8e3-9123e42aa203/lib/python3.10/site-packages (from chromadb) (7.7.0)\nRequirement already satisfied: chroma-hnswlib==0.7.6 in /local_disk0/.ephemeral_nfs/envs/pythonEnv-b96c6dc9-ef77-4c54-a8e3-9123e42aa203/lib/python3.10/site-packages (from chromadb) (0.7.6)\nRequirement already satisfied: tokenizers<=0.20.3,>=0.13.2 in /databricks/python3/lib/python3.10/site-packages (from chromadb) (0.15.0)\nRequirement already satisfied: rich>=10.11.0 in /local_disk0/.ephemeral_nfs/envs/pythonEnv-b96c6dc9-ef77-4c54-a8e3-9123e42aa203/lib/python3.10/site-packages (from chromadb) (13.9.4)\nRequirement already satisfied: typer>=0.9.0 in /databricks/python3/lib/python3.10/site-packages (from chromadb) (0.9.0)\nRequirement already satisfied: typing_extensions>=4.5.0 in /local_disk0/.ephemeral_nfs/cluster_libraries/python/lib/python3.10/site-packages (from chromadb) (4.12.2)\nRequirement already satisfied: build>=1.0.3 in /local_disk0/.ephemeral_nfs/envs/pythonEnv-b96c6dc9-ef77-4c54-a8e3-9123e42aa203/lib/python3.10/site-packages (from chromadb) (1.2.2.post1)\nRequirement already satisfied: grpcio>=1.58.0 in /local_disk0/.ephemeral_nfs/envs/pythonEnv-b96c6dc9-ef77-4c54-a8e3-9123e42aa203/lib/python3.10/site-packages (from chromadb) (1.68.1)\nRequirement already satisfied: httpx>=0.27.0 in /local_disk0/.ephemeral_nfs/envs/pythonEnv-b96c6dc9-ef77-4c54-a8e3-9123e42aa203/lib/python3.10/site-packages (from chromadb) (0.28.0)\nRequirement already satisfied: kubernetes>=28.1.0 in /local_disk0/.ephemeral_nfs/envs/pythonEnv-b96c6dc9-ef77-4c54-a8e3-9123e42aa203/lib/python3.10/site-packages (from chromadb) (31.0.0)\nRequirement already satisfied: importlib-resources in /databricks/python3/lib/python3.10/site-packages (from chromadb) (6.1.1)\nRequirement already satisfied: bcrypt>=4.0.1 in /local_disk0/.ephemeral_nfs/envs/pythonEnv-b96c6dc9-ef77-4c54-a8e3-9123e42aa203/lib/python3.10/site-packages (from chromadb) (4.2.1)\nRequirement already satisfied: opentelemetry-exporter-otlp-proto-grpc>=1.2.0 in /local_disk0/.ephemeral_nfs/envs/pythonEnv-b96c6dc9-ef77-4c54-a8e3-9123e42aa203/lib/python3.10/site-packages (from chromadb) (1.28.2)\nRequirement already satisfied: pypika>=0.48.9 in /local_disk0/.ephemeral_nfs/envs/pythonEnv-b96c6dc9-ef77-4c54-a8e3-9123e42aa203/lib/python3.10/site-packages (from chromadb) (0.48.9)\nRequirement already satisfied: regex!=2019.12.17 in /databricks/python3/lib/python3.10/site-packages (from transformers) (2022.7.9)\nRequirement already satisfied: safetensors>=0.3.1 in /databricks/python3/lib/python3.10/site-packages (from transformers) (0.4.1)\nRequirement already satisfied: filelock in /databricks/python3/lib/python3.10/site-packages (from transformers) (3.9.0)\nRequirement already satisfied: packaging>=20.0 in /databricks/python3/lib/python3.10/site-packages (from transformers) (23.2)\nRequirement already satisfied: jinja2 in /databricks/python3/lib/python3.10/site-packages (from torch) (3.1.2)\nRequirement already satisfied: sympy in /databricks/python3/lib/python3.10/site-packages (from torch) (1.11.1)\nRequirement already satisfied: networkx in /databricks/python3/lib/python3.10/site-packages (from torch) (2.8.4)\nRequirement already satisfied: aiosignal>=1.1.2 in /databricks/python3/lib/python3.10/site-packages (from aiohttp<4.0.0,>=3.8.3->langchain) (1.3.1)\nRequirement already satisfied: attrs>=17.3.0 in /databricks/python3/lib/python3.10/site-packages (from aiohttp<4.0.0,>=3.8.3->langchain) (22.1.0)\nRequirement already satisfied: yarl<2.0,>=1.0 in /databricks/python3/lib/python3.10/site-packages (from aiohttp<4.0.0,>=3.8.3->langchain) (1.9.4)\nRequirement already satisfied: multidict<7.0,>=4.5 in /databricks/python3/lib/python3.10/site-packages (from aiohttp<4.0.0,>=3.8.3->langchain) (6.0.4)\nRequirement already satisfied: frozenlist>=1.1.1 in /databricks/python3/lib/python3.10/site-packages (from aiohttp<4.0.0,>=3.8.3->langchain) (1.4.1)\nRequirement already satisfied: tomli>=1.1.0 in /databricks/python3/lib/python3.10/site-packages (from build>=1.0.3->chromadb) (2.0.1)\nRequirement already satisfied: pyproject_hooks in /local_disk0/.ephemeral_nfs/envs/pythonEnv-b96c6dc9-ef77-4c54-a8e3-9123e42aa203/lib/python3.10/site-packages (from build>=1.0.3->chromadb) (1.2.0)\nRequirement already satisfied: marshmallow<4.0.0,>=3.18.0 in /databricks/python3/lib/python3.10/site-packages (from dataclasses-json<0.7,>=0.5.7->langchain) (3.20.2)\nRequirement already satisfied: typing-inspect<1,>=0.4.0 in /databricks/python3/lib/python3.10/site-packages (from dataclasses-json<0.7,>=0.5.7->langchain) (0.9.0)\nRequirement already satisfied: starlette<0.42.0,>=0.40.0 in /local_disk0/.ephemeral_nfs/envs/pythonEnv-b96c6dc9-ef77-4c54-a8e3-9123e42aa203/lib/python3.10/site-packages (from fastapi>=0.95.2->chromadb) (0.41.3)\nRequirement already satisfied: certifi in /databricks/python3/lib/python3.10/site-packages (from httpx>=0.27.0->chromadb) (2022.12.7)\nRequirement already satisfied: anyio in /databricks/python3/lib/python3.10/site-packages (from httpx>=0.27.0->chromadb) (3.5.0)\nRequirement already satisfied: httpcore==1.* in /local_disk0/.ephemeral_nfs/envs/pythonEnv-b96c6dc9-ef77-4c54-a8e3-9123e42aa203/lib/python3.10/site-packages (from httpx>=0.27.0->chromadb) (1.0.7)\nRequirement already satisfied: idna in /databricks/python3/lib/python3.10/site-packages (from httpx>=0.27.0->chromadb) (3.4)\nRequirement already satisfied: h11<0.15,>=0.13 in /local_disk0/.ephemeral_nfs/envs/pythonEnv-b96c6dc9-ef77-4c54-a8e3-9123e42aa203/lib/python3.10/site-packages (from httpcore==1.*->httpx>=0.27.0->chromadb) (0.14.0)\nRequirement already satisfied: fsspec>=2023.5.0 in /databricks/python3/lib/python3.10/site-packages (from huggingface-hub>=0.4.0->sentence-transformers) (2023.6.0)\nRequirement already satisfied: jsonpointer>=1.9 in /databricks/python3/lib/python3.10/site-packages (from jsonpatch<2.0,>=1.33->langchain) (2.4)\nRequirement already satisfied: six>=1.9.0 in /usr/lib/python3/dist-packages (from kubernetes>=28.1.0->chromadb) (1.16.0)\nRequirement already satisfied: websocket-client!=0.40.0,!=0.41.*,!=0.42.*,>=0.32.0 in /databricks/python3/lib/python3.10/site-packages (from kubernetes>=28.1.0->chromadb) (0.58.0)\nRequirement already satisfied: google-auth>=1.0.1 in /databricks/python3/lib/python3.10/site-packages (from kubernetes>=28.1.0->chromadb) (2.21.0)\nRequirement already satisfied: urllib3>=1.24.2 in /databricks/python3/lib/python3.10/site-packages (from kubernetes>=28.1.0->chromadb) (1.26.14)\nRequirement already satisfied: durationpy>=0.7 in /local_disk0/.ephemeral_nfs/envs/pythonEnv-b96c6dc9-ef77-4c54-a8e3-9123e42aa203/lib/python3.10/site-packages (from kubernetes>=28.1.0->chromadb) (0.9)\nRequirement already satisfied: python-dateutil>=2.5.3 in /databricks/python3/lib/python3.10/site-packages (from kubernetes>=28.1.0->chromadb) (2.8.2)\nRequirement already satisfied: requests-oauthlib in /databricks/python3/lib/python3.10/site-packages (from kubernetes>=28.1.0->chromadb) (1.3.1)\nRequirement already satisfied: oauthlib>=3.2.2 in /local_disk0/.ephemeral_nfs/envs/pythonEnv-b96c6dc9-ef77-4c54-a8e3-9123e42aa203/lib/python3.10/site-packages (from kubernetes>=28.1.0->chromadb) (3.2.2)\nRequirement already satisfied: protobuf in /local_disk0/.ephemeral_nfs/envs/pythonEnv-b96c6dc9-ef77-4c54-a8e3-9123e42aa203/lib/python3.10/site-packages (from onnxruntime>=1.14.1->chromadb) (5.29.0)\nRequirement already satisfied: flatbuffers in /databricks/python3/lib/python3.10/site-packages (from onnxruntime>=1.14.1->chromadb) (23.5.26)\nRequirement already satisfied: coloredlogs in /local_disk0/.ephemeral_nfs/envs/pythonEnv-b96c6dc9-ef77-4c54-a8e3-9123e42aa203/lib/python3.10/site-packages (from onnxruntime>=1.14.1->chromadb) (15.0.1)\nRequirement already satisfied: deprecated>=1.2.6 in /local_disk0/.ephemeral_nfs/envs/pythonEnv-b96c6dc9-ef77-4c54-a8e3-9123e42aa203/lib/python3.10/site-packages (from opentelemetry-api>=1.2.0->chromadb) (1.2.15)\nRequirement already satisfied: importlib-metadata<=8.5.0,>=6.0 in /local_disk0/.ephemeral_nfs/envs/pythonEnv-b96c6dc9-ef77-4c54-a8e3-9123e42aa203/lib/python3.10/site-packages (from opentelemetry-api>=1.2.0->chromadb) (8.5.0)\nRequirement already satisfied: googleapis-common-protos~=1.52 in /local_disk0/.ephemeral_nfs/envs/pythonEnv-b96c6dc9-ef77-4c54-a8e3-9123e42aa203/lib/python3.10/site-packages (from opentelemetry-exporter-otlp-proto-grpc>=1.2.0->chromadb) (1.66.0)\nRequirement already satisfied: opentelemetry-proto==1.28.2 in /local_disk0/.ephemeral_nfs/envs/pythonEnv-b96c6dc9-ef77-4c54-a8e3-9123e42aa203/lib/python3.10/site-packages (from opentelemetry-exporter-otlp-proto-grpc>=1.2.0->chromadb) (1.28.2)\nRequirement already satisfied: opentelemetry-exporter-otlp-proto-common==1.28.2 in /local_disk0/.ephemeral_nfs/envs/pythonEnv-b96c6dc9-ef77-4c54-a8e3-9123e42aa203/lib/python3.10/site-packages (from opentelemetry-exporter-otlp-proto-grpc>=1.2.0->chromadb) (1.28.2)\nRequirement already satisfied: opentelemetry-util-http==0.49b2 in /local_disk0/.ephemeral_nfs/envs/pythonEnv-b96c6dc9-ef77-4c54-a8e3-9123e42aa203/lib/python3.10/site-packages (from opentelemetry-instrumentation-fastapi>=0.41b0->chromadb) (0.49b2)\nRequirement already satisfied: opentelemetry-instrumentation-asgi==0.49b2 in /local_disk0/.ephemeral_nfs/envs/pythonEnv-b96c6dc9-ef77-4c54-a8e3-9123e42aa203/lib/python3.10/site-packages (from opentelemetry-instrumentation-fastapi>=0.41b0->chromadb) (0.49b2)\nRequirement already satisfied: opentelemetry-semantic-conventions==0.49b2 in /local_disk0/.ephemeral_nfs/envs/pythonEnv-b96c6dc9-ef77-4c54-a8e3-9123e42aa203/lib/python3.10/site-packages (from opentelemetry-instrumentation-fastapi>=0.41b0->chromadb) (0.49b2)\nRequirement already satisfied: opentelemetry-instrumentation==0.49b2 in /local_disk0/.ephemeral_nfs/envs/pythonEnv-b96c6dc9-ef77-4c54-a8e3-9123e42aa203/lib/python3.10/site-packages (from opentelemetry-instrumentation-fastapi>=0.41b0->chromadb) (0.49b2)\nRequirement already satisfied: wrapt<2.0.0,>=1.0.0 in /databricks/python3/lib/python3.10/site-packages (from opentelemetry-instrumentation==0.49b2->opentelemetry-instrumentation-fastapi>=0.41b0->chromadb) (1.14.1)\nRequirement already satisfied: asgiref~=3.0 in /local_disk0/.ephemeral_nfs/envs/pythonEnv-b96c6dc9-ef77-4c54-a8e3-9123e42aa203/lib/python3.10/site-packages (from opentelemetry-instrumentation-asgi==0.49b2->opentelemetry-instrumentation-fastapi>=0.41b0->chromadb) (3.8.1)\nRequirement already satisfied: backoff>=1.10.0 in /local_disk0/.ephemeral_nfs/envs/pythonEnv-b96c6dc9-ef77-4c54-a8e3-9123e42aa203/lib/python3.10/site-packages (from posthog>=2.4.0->chromadb) (2.2.1)\nRequirement already satisfied: monotonic>=1.5 in /local_disk0/.ephemeral_nfs/envs/pythonEnv-b96c6dc9-ef77-4c54-a8e3-9123e42aa203/lib/python3.10/site-packages (from posthog>=2.4.0->chromadb) (1.6)\nRequirement already satisfied: charset-normalizer<3,>=2 in /databricks/python3/lib/python3.10/site-packages (from requests<3,>=2->langchain) (2.0.4)\nRequirement already satisfied: markdown-it-py>=2.2.0 in /local_disk0/.ephemeral_nfs/envs/pythonEnv-b96c6dc9-ef77-4c54-a8e3-9123e42aa203/lib/python3.10/site-packages (from rich>=10.11.0->chromadb) (3.0.0)\nRequirement already satisfied: pygments<3.0.0,>=2.13.0 in /local_disk0/.ephemeral_nfs/envs/pythonEnv-b96c6dc9-ef77-4c54-a8e3-9123e42aa203/lib/python3.10/site-packages (from rich>=10.11.0->chromadb) (2.18.0)\nRequirement already satisfied: greenlet!=0.4.17 in /databricks/python3/lib/python3.10/site-packages (from SQLAlchemy<3,>=1.4->langchain) (2.0.1)\nRequirement already satisfied: click<9.0.0,>=7.1.1 in /databricks/python3/lib/python3.10/site-packages (from typer>=0.9.0->chromadb) (8.0.4)\nRequirement already satisfied: python-dotenv>=0.13 in /local_disk0/.ephemeral_nfs/envs/pythonEnv-b96c6dc9-ef77-4c54-a8e3-9123e42aa203/lib/python3.10/site-packages (from uvicorn[standard]>=0.18.3->chromadb) (1.0.1)\nRequirement already satisfied: httptools>=0.6.3 in /local_disk0/.ephemeral_nfs/envs/pythonEnv-b96c6dc9-ef77-4c54-a8e3-9123e42aa203/lib/python3.10/site-packages (from uvicorn[standard]>=0.18.3->chromadb) (0.6.4)\nRequirement already satisfied: watchfiles>=0.13 in /local_disk0/.ephemeral_nfs/envs/pythonEnv-b96c6dc9-ef77-4c54-a8e3-9123e42aa203/lib/python3.10/site-packages (from uvicorn[standard]>=0.18.3->chromadb) (1.0.0)\nRequirement already satisfied: uvloop!=0.15.0,!=0.15.1,>=0.14.0 in /local_disk0/.ephemeral_nfs/envs/pythonEnv-b96c6dc9-ef77-4c54-a8e3-9123e42aa203/lib/python3.10/site-packages (from uvicorn[standard]>=0.18.3->chromadb) (0.21.0)\nRequirement already satisfied: websockets>=10.4 in /local_disk0/.ephemeral_nfs/envs/pythonEnv-b96c6dc9-ef77-4c54-a8e3-9123e42aa203/lib/python3.10/site-packages (from uvicorn[standard]>=0.18.3->chromadb) (14.1)\nRequirement already satisfied: MarkupSafe>=2.0 in /databricks/python3/lib/python3.10/site-packages (from jinja2->torch) (2.1.1)\nRequirement already satisfied: joblib in /databricks/python3/lib/python3.10/site-packages (from nltk->sentence-transformers) (1.2.0)\nRequirement already satisfied: threadpoolctl>=2.0.0 in /databricks/python3/lib/python3.10/site-packages (from scikit-learn->sentence-transformers) (2.2.0)\nRequirement already satisfied: mpmath>=0.19 in /databricks/python3/lib/python3.10/site-packages (from sympy->torch) (1.2.1)\nRequirement already satisfied: pillow!=8.3.*,>=5.3.0 in /databricks/python3/lib/python3.10/site-packages (from torchvision->sentence-transformers) (9.4.0)\nRequirement already satisfied: sniffio>=1.1 in /databricks/python3/lib/python3.10/site-packages (from anyio->httpx>=0.27.0->chromadb) (1.2.0)\nRequirement already satisfied: pyasn1-modules>=0.2.1 in /databricks/python3/lib/python3.10/site-packages (from google-auth>=1.0.1->kubernetes>=28.1.0->chromadb) (0.2.8)\nRequirement already satisfied: rsa<5,>=3.1.4 in /databricks/python3/lib/python3.10/site-packages (from google-auth>=1.0.1->kubernetes>=28.1.0->chromadb) (4.9)\nRequirement already satisfied: cachetools<6.0,>=2.0.0 in /databricks/python3/lib/python3.10/site-packages (from google-auth>=1.0.1->kubernetes>=28.1.0->chromadb) (5.3.2)\nRequirement already satisfied: zipp>=3.20 in /local_disk0/.ephemeral_nfs/envs/pythonEnv-b96c6dc9-ef77-4c54-a8e3-9123e42aa203/lib/python3.10/site-packages (from importlib-metadata<=8.5.0,>=6.0->opentelemetry-api>=1.2.0->chromadb) (3.21.0)\nRequirement already satisfied: mdurl~=0.1 in /local_disk0/.ephemeral_nfs/envs/pythonEnv-b96c6dc9-ef77-4c54-a8e3-9123e42aa203/lib/python3.10/site-packages (from markdown-it-py>=2.2.0->rich>=10.11.0->chromadb) (0.1.2)\nRequirement already satisfied: mypy-extensions>=0.3.0 in /databricks/python3/lib/python3.10/site-packages (from typing-inspect<1,>=0.4.0->dataclasses-json<0.7,>=0.5.7->langchain) (0.4.3)\nRequirement already satisfied: humanfriendly>=9.1 in /local_disk0/.ephemeral_nfs/envs/pythonEnv-b96c6dc9-ef77-4c54-a8e3-9123e42aa203/lib/python3.10/site-packages (from coloredlogs->onnxruntime>=1.14.1->chromadb) (10.0)\nRequirement already satisfied: pyasn1<0.5.0,>=0.4.6 in /databricks/python3/lib/python3.10/site-packages (from pyasn1-modules>=0.2.1->google-auth>=1.0.1->kubernetes>=28.1.0->chromadb) (0.4.8)\nInstalling collected packages: langchain_community\nSuccessfully installed langchain_community-0.0.1\n\u001B[43mNote: you may need to restart the kernel using dbutils.library.restartPython() to use updated packages.\u001B[0m\n"
     ]
    }
   ],
   "source": [
    "%pip install langchain langchain_community sentence-transformers chromadb PyPDF2 transformers torch"
   ]
  },
  {
   "cell_type": "code",
   "execution_count": 0,
   "metadata": {
    "application/vnd.databricks.v1+cell": {
     "cellMetadata": {
      "byteLimit": 2048000,
      "rowLimit": 10000
     },
     "inputWidgets": {},
     "nuid": "6f2bde12-01a8-4aa8-bd55-a9a0db79b09b",
     "showTitle": false,
     "tableResultSettingsMap": {},
     "title": ""
    }
   },
   "outputs": [],
   "source": [
    "dbutils.library.restartPython()"
   ]
  },
  {
   "cell_type": "code",
   "execution_count": 0,
   "metadata": {
    "application/vnd.databricks.v1+cell": {
     "cellMetadata": {
      "byteLimit": 2048000,
      "rowLimit": 10000
     },
     "inputWidgets": {},
     "nuid": "d4facbc9-ab39-4004-afa9-dfd371387079",
     "showTitle": true,
     "tableResultSettingsMap": {},
     "title": "Step 2: Mount Azure Blob Storage"
    }
   },
   "outputs": [],
   "source": [
    "def mount_storage():\n",
    "    storage_account_name = \"genaicertificationsa\"\n",
    "    container_name = \"gen-ai-container\"\n",
    "    mount_point = \"/mnt/gen-ai-container\"\n",
    "    \n",
    "    try:\n",
    "        dbutils.fs.unmount(mount_point)\n",
    "    except:\n",
    "        print(\"Nothing to unmount\")\n",
    "    \n",
    "    configs = {\n",
    "        f\"fs.azure.account.key.{storage_account_name}.blob.core.windows.net\": \"j1wgCYCPWdinRWy/4OAXB1NrdROS3lLxoY/OPTJvgVi5tNwsM45Y8JkXZbBZEOe3ThfmI7F1XPDY+ASt31+r5w==\"\n",
    "    }\n",
    "    \n",
    "    dbutils.fs.mount(\n",
    "        source = f\"wasbs://{container_name}@{storage_account_name}.blob.core.windows.net/\",\n",
    "        mount_point = mount_point,\n",
    "        extra_configs = configs\n",
    "    )"
   ]
  },
  {
   "cell_type": "code",
   "execution_count": 0,
   "metadata": {
    "application/vnd.databricks.v1+cell": {
     "cellMetadata": {
      "byteLimit": 2048000,
      "rowLimit": 10000
     },
     "inputWidgets": {},
     "nuid": "d9b6e524-345d-488a-bda2-82d4f6022d3b",
     "showTitle": true,
     "tableResultSettingsMap": {},
     "title": "Step 3: Create Vector Store"
    }
   },
   "outputs": [],
   "source": [
    "from langchain_community.vectorstores import Chroma\n",
    "from langchain.embeddings import SentenceTransformerEmbeddings\n",
    "from langchain.text_splitter import RecursiveCharacterTextSplitter\n",
    "import PyPDF2\n",
    "\n",
    "def create_vectorstore(pdf_path):\n",
    "    # Initialize embeddings\n",
    "    embeddings = SentenceTransformerEmbeddings(model_name=\"all-MiniLM-L6-v2\")\n",
    "    \n",
    "    # Create text splitter\n",
    "    text_splitter = RecursiveCharacterTextSplitter(\n",
    "        chunk_size=1000,\n",
    "        chunk_overlap=200\n",
    "    )\n",
    "    \n",
    "    # Read PDF\n",
    "    with open(pdf_path, 'rb') as file:\n",
    "        pdf_reader = PyPDF2.PdfReader(file)\n",
    "        text = \"\"\n",
    "        for page in pdf_reader.pages:\n",
    "            text += page.extract_text()\n",
    "    \n",
    "    # Split text\n",
    "    chunks = text_splitter.split_text(text)\n",
    "    \n",
    "    # Create vector store\n",
    "    vectordb = Chroma.from_texts(\n",
    "        texts=chunks,\n",
    "        embedding=embeddings,\n",
    "        persist_directory=\"./chroma_db\"\n",
    "    )\n",
    "    return vectordb"
   ]
  },
  {
   "cell_type": "code",
   "execution_count": 0,
   "metadata": {
    "application/vnd.databricks.v1+cell": {
     "cellMetadata": {
      "byteLimit": 2048000,
      "rowLimit": 10000
     },
     "inputWidgets": {},
     "nuid": "b2785799-095e-4c5f-90e5-742073450d42",
     "showTitle": true,
     "tableResultSettingsMap": {},
     "title": "Step 4: Create RAG Chain"
    }
   },
   "outputs": [],
   "source": [
    "from langchain.chains import RetrievalQA\n",
    "from transformers import pipeline\n",
    "from langchain.llms import HuggingFacePipeline\n",
    "\n",
    "def create_rag_chain(vectorstore):\n",
    "    # Initialize local LLM\n",
    "    local_llm = pipeline(\n",
    "        \"text2text-generation\",\n",
    "        model=\"google/flan-t5-small\",\n",
    "        max_length=512\n",
    "    )\n",
    "    \n",
    "    llm = HuggingFacePipeline(pipeline=local_llm)\n",
    "    \n",
    "    # Create retriever\n",
    "    retriever = vectorstore.as_retriever(\n",
    "        search_type=\"similarity\",\n",
    "        search_kwargs={\"k\": 3}\n",
    "    )\n",
    "    \n",
    "    # Create chain\n",
    "    qa_chain = RetrievalQA.from_chain_type(\n",
    "        llm=llm,\n",
    "        chain_type=\"stuff\",\n",
    "        retriever=retriever,\n",
    "        return_source_documents=True\n",
    "    )\n",
    "    return qa_chain"
   ]
  },
  {
   "cell_type": "code",
   "execution_count": 0,
   "metadata": {
    "application/vnd.databricks.v1+cell": {
     "cellMetadata": {
      "byteLimit": 2048000,
      "rowLimit": 10000
     },
     "inputWidgets": {},
     "nuid": "e41e592c-8987-4445-8cb8-99d85698f15d",
     "showTitle": true,
     "tableResultSettingsMap": {},
     "title": "Step 5: Query Function"
    }
   },
   "outputs": [
    {
     "output_type": "display_data",
     "data": {
      "application/vnd.jupyter.widget-view+json": {
       "model_id": "734e7bfa3b3e494184ba3d01826009e6",
       "version_major": 2,
       "version_minor": 0
      },
      "text/plain": [
       "config.json:   0%|          | 0.00/1.40k [00:00<?, ?B/s]"
      ]
     },
     "metadata": {},
     "output_type": "display_data"
    },
    {
     "output_type": "display_data",
     "data": {
      "application/vnd.jupyter.widget-view+json": {
       "model_id": "69544e385a8d4a7693de60d5abf9f24b",
       "version_major": 2,
       "version_minor": 0
      },
      "text/plain": [
       "model.safetensors:   0%|          | 0.00/308M [00:00<?, ?B/s]"
      ]
     },
     "metadata": {},
     "output_type": "display_data"
    },
    {
     "output_type": "display_data",
     "data": {
      "application/vnd.jupyter.widget-view+json": {
       "model_id": "246db0d2e4c94a20b312e425b51ed4b9",
       "version_major": 2,
       "version_minor": 0
      },
      "text/plain": [
       "generation_config.json:   0%|          | 0.00/147 [00:00<?, ?B/s]"
      ]
     },
     "metadata": {},
     "output_type": "display_data"
    },
    {
     "output_type": "display_data",
     "data": {
      "application/vnd.jupyter.widget-view+json": {
       "model_id": "08876074435c436d972aaf79196e1591",
       "version_major": 2,
       "version_minor": 0
      },
      "text/plain": [
       "tokenizer_config.json:   0%|          | 0.00/2.54k [00:00<?, ?B/s]"
      ]
     },
     "metadata": {},
     "output_type": "display_data"
    },
    {
     "output_type": "display_data",
     "data": {
      "application/vnd.jupyter.widget-view+json": {
       "model_id": "2b82b1974d374c8291371ed2d8fbd99d",
       "version_major": 2,
       "version_minor": 0
      },
      "text/plain": [
       "spiece.model:   0%|          | 0.00/792k [00:00<?, ?B/s]"
      ]
     },
     "metadata": {},
     "output_type": "display_data"
    },
    {
     "output_type": "display_data",
     "data": {
      "application/vnd.jupyter.widget-view+json": {
       "model_id": "9ad10c414988438e847cdd31bd4b0ac7",
       "version_major": 2,
       "version_minor": 0
      },
      "text/plain": [
       "tokenizer.json:   0%|          | 0.00/2.42M [00:00<?, ?B/s]"
      ]
     },
     "metadata": {},
     "output_type": "display_data"
    },
    {
     "output_type": "display_data",
     "data": {
      "application/vnd.jupyter.widget-view+json": {
       "model_id": "024c32912daf4a56a9c2cab854b464e1",
       "version_major": 2,
       "version_minor": 0
      },
      "text/plain": [
       "special_tokens_map.json:   0%|          | 0.00/2.20k [00:00<?, ?B/s]"
      ]
     },
     "metadata": {},
     "output_type": "display_data"
    },
    {
     "output_type": "stream",
     "name": "stderr",
     "output_type": "stream",
     "text": [
      "Token indices sequence length is longer than the specified maximum sequence length for this model (1003 > 512). Running this sequence through the model will result in indexing errors\n"
     ]
    },
    {
     "output_type": "stream",
     "name": "stdout",
     "output_type": "stream",
     "text": [
      "Answer: Science/Tech\n\nSource Documents:\n- 35330 77\nLukyanenko, R., Maass, W., & Storey, V. C. (2022). Trust in arti -\nficial intelligence: From a Foundational Trust Framework to \nemerging research opportunities. Electronic Markets, 32(4), \n19 ...\n\n- 35330 77\nLukyanenko, R., Maass, W., & Storey, V. C. (2022). Trust in arti -\nficial intelligence: From a Foundational Trust Framework to \nemerging research opportunities. Electronic Markets, 32(4), \n19 ...\n\n- Taxonomy of risks posed by language models. In  2022 ACM \nConference on Fairness, Accountability, and Transparency (pp. \n214–229). ACM. https:// doi. org/ 10. 1145/ 35311 46. 35330 88\nWeisz, J., Mulle ...\n\n"
     ]
    }
   ],
   "source": [
    "def query_document(question, qa_chain):\n",
    "    try:\n",
    "        result = qa_chain({\"query\": question})\n",
    "        print(\"Answer:\", result[\"result\"])\n",
    "        print(\"\\nSource Documents:\")\n",
    "        for doc in result[\"source_documents\"]:\n",
    "            print(\"-\", doc.page_content[:200], \"...\\n\")\n",
    "    except Exception as e:\n",
    "        print(f\"Error processing query: {str(e)}\")\n",
    "\n",
    "# Usage Example\n",
    "pdf_path = \"/dbfs/mnt/gen-ai-container/gen-ai-sample.pdf\"\n",
    "vectorstore = create_vectorstore(pdf_path)\n",
    "rag_chain = create_rag_chain(vectorstore)\n",
    "query_document(\"What is this document about?\", rag_chain)"
   ]
  },
  {
   "cell_type": "code",
   "execution_count": 0,
   "metadata": {
    "application/vnd.databricks.v1+cell": {
     "cellMetadata": {},
     "inputWidgets": {},
     "nuid": "bbeb68a5-1d75-42c9-9694-e9c3c510bc8f",
     "showTitle": false,
     "tableResultSettingsMap": {},
     "title": ""
    }
   },
   "outputs": [],
   "source": []
  },
  {
   "cell_type": "code",
   "execution_count": 0,
   "metadata": {
    "application/vnd.databricks.v1+cell": {
     "cellMetadata": {},
     "inputWidgets": {},
     "nuid": "4d442ee0-c239-423c-afa7-c15f64f8ab6e",
     "showTitle": false,
     "tableResultSettingsMap": {},
     "title": ""
    }
   },
   "outputs": [],
   "source": []
  },
  {
   "cell_type": "code",
   "execution_count": 0,
   "metadata": {
    "application/vnd.databricks.v1+cell": {
     "cellMetadata": {},
     "inputWidgets": {},
     "nuid": "bb0f2468-0797-4c82-b41b-894adaca6402",
     "showTitle": false,
     "tableResultSettingsMap": {},
     "title": ""
    }
   },
   "outputs": [],
   "source": []
  }
 ],
 "metadata": {
  "application/vnd.databricks.v1+notebook": {
   "dashboards": [],
   "environmentMetadata": {
    "base_environment": "",
    "client": "1"
   },
   "language": "python",
   "notebookMetadata": {
    "pythonIndentUnit": 4
   },
   "notebookName": "Assignment-5-PDF-Text-Embedding-Generator-RAG",
   "widgets": {}
  },
  "language_info": {
   "name": "python"
  }
 },
 "nbformat": 4,
 "nbformat_minor": 0
}